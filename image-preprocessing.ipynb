{
 "cells": [
  {
   "cell_type": "code",
   "execution_count": 1,
   "metadata": {},
   "outputs": [
    {
     "name": "stdout",
     "output_type": "stream",
     "text": [
      "WARNING:tensorflow:From c:\\py_me\\venv\\lib\\site-packages\\keras\\src\\losses.py:2976: The name tf.losses.sparse_softmax_cross_entropy is deprecated. Please use tf.compat.v1.losses.sparse_softmax_cross_entropy instead.\n",
      "\n"
     ]
    }
   ],
   "source": [
    "import cv2\n",
    "import numpy as np\n",
    "import os\n",
    "from matplotlib import pyplot as plt\n",
    "import time\n",
    "import mediapipe as mp"
   ]
  },
  {
   "cell_type": "code",
   "execution_count": 5,
   "metadata": {},
   "outputs": [],
   "source": [
    "def zoom_in_effect(video_path, output_path):\n",
    "    cap = cv2.VideoCapture(video_path)\n",
    "    frame_width = int(cap.get(cv2.CAP_PROP_FRAME_WIDTH))\n",
    "    frame_height = int(cap.get(cv2.CAP_PROP_FRAME_HEIGHT))\n",
    "    fps = int(cap.get(cv2.CAP_PROP_FPS))\n",
    "    fourcc = cv2.VideoWriter_fourcc(*'XVID')\n",
    "\n",
    "    out = cv2.VideoWriter(output_path, fourcc, fps, (frame_width, frame_height))\n",
    "\n",
    "    scale = 1.0\n",
    "    scale_step = 0.01\n",
    "    max_scale = 1.2  # Adjust the max scale factor as needed\n",
    "\n",
    "    while cap.isOpened():\n",
    "        ret, frame = cap.read()\n",
    "        if not ret:\n",
    "            break\n",
    "\n",
    "        # Increase the scale until it reaches the max scale factor\n",
    "        if scale < max_scale:\n",
    "            scale += scale_step\n",
    "\n",
    "        # Get the center of the frame\n",
    "        center_x, center_y = frame_width // 2, frame_height // 2\n",
    "        # Calculate the region to crop\n",
    "        crop_x1 = int(center_x - center_x / scale)\n",
    "        crop_y1 = int(center_y - center_y / scale)\n",
    "        crop_x2 = int(center_x + center_x / scale)\n",
    "        crop_y2 = int(center_y + center_y / scale)\n",
    "        \n",
    "        # Crop and resize the frame\n",
    "        frame_cropped = frame[crop_y1:crop_y2, crop_x1:crop_x2]\n",
    "        frame_resized = cv2.resize(frame_cropped, (frame_width, frame_height))\n",
    "\n",
    "        out.write(frame_resized)\n",
    "\n",
    "    cap.release()\n",
    "    out.release()"
   ]
  },
  {
   "cell_type": "code",
   "execution_count": 6,
   "metadata": {},
   "outputs": [],
   "source": [
    "zoom_in_effect(\"videos/fine/14.mp4\", \"videos/fine/0_zoomed_in.mp4\")"
   ]
  }
 ],
 "metadata": {
  "kernelspec": {
   "display_name": "venv",
   "language": "python",
   "name": "python3"
  },
  "language_info": {
   "codemirror_mode": {
    "name": "ipython",
    "version": 3
   },
   "file_extension": ".py",
   "mimetype": "text/x-python",
   "name": "python",
   "nbconvert_exporter": "python",
   "pygments_lexer": "ipython3",
   "version": "3.9.13"
  }
 },
 "nbformat": 4,
 "nbformat_minor": 2
}
