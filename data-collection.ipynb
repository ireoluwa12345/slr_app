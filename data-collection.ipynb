{
 "cells": [
  {
   "cell_type": "code",
   "execution_count": 1,
   "metadata": {},
   "outputs": [
    {
     "name": "stdout",
     "output_type": "stream",
     "text": [
      "WARNING:tensorflow:From c:\\py_me\\venv\\lib\\site-packages\\keras\\src\\losses.py:2976: The name tf.losses.sparse_softmax_cross_entropy is deprecated. Please use tf.compat.v1.losses.sparse_softmax_cross_entropy instead.\n",
      "\n"
     ]
    }
   ],
   "source": [
    "import cv2\n",
    "import numpy as np\n",
    "import os\n",
    "from matplotlib import pyplot as plt\n",
    "import time\n",
    "import mediapipe as mp"
   ]
  },
  {
   "cell_type": "code",
   "execution_count": 2,
   "metadata": {},
   "outputs": [],
   "source": [
    "mp_holistic = mp.solutions.holistic # Holistic model\n",
    "mp_drawing = mp.solutions.drawing_utils # Drawing utilities"
   ]
  },
  {
   "cell_type": "code",
   "execution_count": 3,
   "metadata": {},
   "outputs": [],
   "source": [
    "def mediapipe_detection(image, model):\n",
    "    image = cv2.cvtColor(image, cv2.COLOR_BGR2RGB) # COLOR CONVERSION BGR 2 RGB\n",
    "    image.flags.writeable = False                  # Image is no longer writeable\n",
    "    results = model.process(image)                 # Make prediction\n",
    "    image.flags.writeable = True                   # Image is now writeable \n",
    "    image = cv2.cvtColor(image, cv2.COLOR_RGB2BGR) # COLOR COVERSION RGB 2 BGR\n",
    "    return image, results"
   ]
  },
  {
   "cell_type": "code",
   "execution_count": 4,
   "metadata": {},
   "outputs": [],
   "source": [
    "def draw_landmarks(image, results):\n",
    "    mp_drawing.draw_landmarks(image, results.pose_landmarks, mp_holistic.POSE_CONNECTIONS) # Draw pose connections\n",
    "    mp_drawing.draw_landmarks(image, results.left_hand_landmarks, mp_holistic.HAND_CONNECTIONS) # Draw left hand connections\n",
    "    mp_drawing.draw_landmarks(image, results.right_hand_landmarks, mp_holistic.HAND_CONNECTIONS) # Draw right hand connections"
   ]
  },
  {
   "cell_type": "code",
   "execution_count": 5,
   "metadata": {},
   "outputs": [],
   "source": [
    "def draw_styled_landmarks(image, results): \n",
    "    # Draw pose connections\n",
    "    mp_drawing.draw_landmarks(image, results.pose_landmarks, mp_holistic.POSE_CONNECTIONS,\n",
    "                             mp_drawing.DrawingSpec(color=(80,22,10), thickness=1, circle_radius=1),\n",
    "                             mp_drawing.DrawingSpec(color=(80,44,121), thickness=1, circle_radius=1)\n",
    "                             )\n",
    "    # Draw left hand connections\n",
    "    mp_drawing.draw_landmarks(image, results.left_hand_landmarks, mp_holistic.HAND_CONNECTIONS,\n",
    "                             mp_drawing.DrawingSpec(color=(121,22,76), thickness=1, circle_radius=1),\n",
    "                             mp_drawing.DrawingSpec(color=(121,44,250), thickness=1, circle_radius=1)\n",
    "                             )\n",
    "    # Draw right hand connections\n",
    "    mp_drawing.draw_landmarks(image, results.right_hand_landmarks, mp_holistic.HAND_CONNECTIONS,\n",
    "                             mp_drawing.DrawingSpec(color=(245,117,66), thickness=1, circle_radius=1),\n",
    "                             mp_drawing.DrawingSpec(color=(245,66,230), thickness=1, circle_radius=1)\n",
    "                             )"
   ]
  },
  {
   "cell_type": "code",
   "execution_count": 6,
   "metadata": {},
   "outputs": [],
   "source": [
    "def extract_keypoints(results):\n",
    "    pose = np.array([[res.x, res.y, res.z, res.visibility] for res in results.pose_landmarks.landmark]).flatten() if results.pose_landmarks else np.zeros(33*4)\n",
    "    lh = np.array([[res.x, res.y, res.z] for res in results.left_hand_landmarks.landmark]).flatten() if results.left_hand_landmarks else np.zeros(21*3)\n",
    "    rh = np.array([[res.x, res.y, res.z] for res in results.right_hand_landmarks.landmark]).flatten() if results.right_hand_landmarks else np.zeros(21*3)\n",
    "    return np.concatenate([lh, rh])"
   ]
  },
  {
   "cell_type": "code",
   "execution_count": 11,
   "metadata": {},
   "outputs": [],
   "source": [
    "# Path for exported data, numpy arrays\n",
    "DATA_PATH = os.path.join('test-videos') \n",
    "\n",
    "parent_folder = 'videos'\n",
    "# Actions that we try to detect\n",
    "actions = np.array([name for name in os.listdir(parent_folder) if os.path.isdir(os.path.join(parent_folder, name))])\n",
    "\n",
    "# Thirty videos worth of data\n",
    "no_sequences = 5\n",
    "\n",
    "# Videos are going to be 30 frames in length\n",
    "sequence_length = 50"
   ]
  },
  {
   "cell_type": "code",
   "execution_count": 9,
   "metadata": {},
   "outputs": [],
   "source": [
    "cap = cv2.VideoCapture(0,cv2.CAP_DSHOW)\n",
    "W, H = 640, 480\n",
    "cap.set(cv2.CAP_PROP_FRAME_WIDTH, W)\n",
    "cap.set(cv2.CAP_PROP_FRAME_HEIGHT, H)\n",
    "cap.set(cv2.CAP_PROP_FPS, 30)\n",
    "cap.set(cv2.CAP_PROP_FOURCC, cv2.VideoWriter_fourcc('M', 'J', 'P', 'G'))\n",
    "# Set mediapipe model \n",
    "with mp_holistic.Holistic(min_detection_confidence=0.5, min_tracking_confidence=0.5) as holistic:\n",
    "    while cap.isOpened():\n",
    "\n",
    "        # Read feed\n",
    "        ret, frame = cap.read()\n",
    "\n",
    "        # Show to screen\n",
    "        cv2.imshow('OpenCV Feed', frame)\n",
    "\n",
    "        # Break gracefully\n",
    "        if cv2.waitKey(10) & 0xFF == ord('q'):\n",
    "            break\n",
    "    cap.release()\n",
    "    cv2.destroyAllWindows()"
   ]
  },
  {
   "cell_type": "code",
   "execution_count": 13,
   "metadata": {},
   "outputs": [
    {
     "name": "stdout",
     "output_type": "stream",
     "text": [
      "test-videos\\fine\\0.mp4\n",
      "test-videos\\fine\\1.mp4\n",
      "test-videos\\finish\\0.mp4\n",
      "test-videos\\finish\\1.mp4\n",
      "test-videos\\go_to\\0.mp4\n",
      "test-videos\\go_to\\1.mp4\n",
      "test-videos\\how\\0.mp4\n",
      "test-videos\\how\\1.mp4\n",
      "test-videos\\i\\0.mp4\n",
      "test-videos\\i\\1.mp4\n",
      "test-videos\\i_love_you\\0.mp4\n",
      "test-videos\\i_love_you\\1.mp4\n",
      "test-videos\\learn\\0.mp4\n",
      "test-videos\\learn\\1.mp4\n",
      "test-videos\\more\\0.mp4\n",
      "test-videos\\more\\1.mp4\n",
      "test-videos\\nice_to_meet_you\\0.mp4\n",
      "test-videos\\nice_to_meet_you\\1.mp4\n",
      "test-videos\\please\\0.mp4\n",
      "test-videos\\please\\1.mp4\n",
      "test-videos\\see_you_later\\0.mp4\n",
      "test-videos\\see_you_later\\1.mp4\n",
      "test-videos\\thanks\\0.mp4\n",
      "test-videos\\thanks\\1.mp4\n",
      "test-videos\\want\\0.mp4\n",
      "test-videos\\want\\1.mp4\n",
      "test-videos\\yes\\0.mp4\n",
      "test-videos\\yes\\1.mp4\n"
     ]
    }
   ],
   "source": [
    "cap = cv2.VideoCapture(0, cv2.CAP_DSHOW)\n",
    "W, H = 640, 480\n",
    "cap.set(cv2.CAP_PROP_FRAME_WIDTH, W)\n",
    "cap.set(cv2.CAP_PROP_FRAME_HEIGHT, H)\n",
    "cap.set(cv2.CAP_PROP_FPS, 30)\n",
    "cap.set(cv2.CAP_PROP_FOURCC, cv2.VideoWriter_fourcc('M', 'J', 'P', 'G'))\n",
    "# Set mediapipe model \n",
    "# Set mediapipe model\n",
    "with mp_holistic.Holistic(min_detection_confidence=0.5, min_tracking_confidence=0.5) as holistic:\n",
    "\n",
    "    # Loop through actions\n",
    "    for action in actions:\n",
    "        # Loop through sequences aka videos\n",
    "        for sequence in range(no_sequences):\n",
    "            # Define video writer for the current sequence\n",
    "            directory_path = os.path.join(DATA_PATH, action)\n",
    "            os.makedirs(directory_path, exist_ok=True)\n",
    "            video_filename = os.path.join(DATA_PATH, action, f\"{sequence}.mp4\")\n",
    "            print(video_filename)\n",
    "            video_writer = cv2.VideoWriter(video_filename, cv2.VideoWriter_fourcc(*'XVID'), 30, (W, H))\n",
    "\n",
    "            # Loop through video length aka sequence length\n",
    "            for frame_num in range(sequence_length):\n",
    "                # Read feed\n",
    "                ret, frame = cap.read()\n",
    "\n",
    "                # Apply wait logic\n",
    "                if frame_num == 0:\n",
    "                    cv2.putText(frame, 'STARTING COLLECTION', (120, 200),\n",
    "                                cv2.FONT_HERSHEY_SIMPLEX, 1, (0, 255, 0), 4, cv2.LINE_AA)\n",
    "                cv2.putText(frame, f'Collecting frames for {action} Video Number {sequence}', (15, 12),\n",
    "                            cv2.FONT_HERSHEY_SIMPLEX, 0.5, (0, 0, 255), 1, cv2.LINE_AA)\n",
    "\n",
    "                # Write frame to video\n",
    "                video_writer.write(frame)\n",
    "\n",
    "                # Show frame to screen\n",
    "                cv2.imshow('OpenCV Feed', frame)\n",
    "\n",
    "                # Break gracefully\n",
    "                if cv2.waitKey(10) & 0xFF == ord('q'):\n",
    "                    break\n",
    "\n",
    "            # Release the video writer\n",
    "            video_writer.release()\n",
    "            cv2.waitKey(1000)\n",
    "\n",
    "        # Release the video capture\n",
    "    cap.release()\n",
    "    cv2.destroyAllWindows()"
   ]
  }
 ],
 "metadata": {
  "kernelspec": {
   "display_name": "venv",
   "language": "python",
   "name": "python3"
  },
  "language_info": {
   "codemirror_mode": {
    "name": "ipython",
    "version": 3
   },
   "file_extension": ".py",
   "mimetype": "text/x-python",
   "name": "python",
   "nbconvert_exporter": "python",
   "pygments_lexer": "ipython3",
   "version": "3.9.13"
  }
 },
 "nbformat": 4,
 "nbformat_minor": 2
}
